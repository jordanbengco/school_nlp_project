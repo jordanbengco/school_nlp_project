{
 "cells": [
  {
   "cell_type": "code",
   "execution_count": 7,
   "metadata": {},
   "outputs": [
    {
     "name": "stderr",
     "output_type": "stream",
     "text": [
      "[nltk_data] Downloading package stopwords to /home/ana58/nltk_data...\n",
      "[nltk_data]   Package stopwords is already up-to-date!\n"
     ]
    },
    {
     "data": {
      "text/plain": [
       "True"
      ]
     },
     "execution_count": 7,
     "metadata": {},
     "output_type": "execute_result"
    }
   ],
   "source": [
    "import pandas as pd\n",
    "import numpy as np\n",
    "import string\n",
    "import nltk\n",
    "from nltk.corpus import stopwords\n",
    "from sklearn.feature_extraction.text import TfidfVectorizer\n",
    "from sklearn.model_selection import train_test_split\n",
    "from sklearn.neural_network import MLPClassifier\n",
    "from sklearn.metrics import classification_report, accuracy_score\n",
    "nltk.download('stopwords')"
   ]
  },
  {
   "cell_type": "code",
   "execution_count": 2,
   "metadata": {},
   "outputs": [],
   "source": [
    "# Import data using pandas and create two dataframes with only stars and text.\n",
    "all_columns = ['review_id', 'user_id', 'business_id', 'stars', 'date', 'text', 'useful', 'funny', 'cool']\n",
    "good_columns = ['stars', 'text']\n",
    "# Can change good stars to include all 1-5 or select certain stars only\n",
    "good_stars = ['1', '3', '5']\n",
    "sample_size = 10000\n",
    "\n",
    "data = pd.read_json('data/review-0-0.json')\n",
    "data = data[data['stars'].isin(good_stars)]\n",
    "# Selecting only the first 10000 rows for computational time and memory error\n",
    "# MemoryError: Unable to allocate array with shape (100000, 113946) and data type float64\n",
    "x = data.head(sample_size)['text']\n",
    "y = data.head(sample_size)['stars']"
   ]
  },
  {
   "cell_type": "code",
   "execution_count": 3,
   "metadata": {},
   "outputs": [],
   "source": [
    "# Cleaning the data to remove puncutation, stop words, then returns the cleaned text\n",
    "def clean_text(text):\n",
    "    not_punc = [char for char in text if char not in string.punctuation]\n",
    "    not_punc = ''.join(not_punc)\n",
    "    return [word.lower() for word in not_punc.split() if word.lower() not in stopwords.words('english')]"
   ]
  },
  {
   "cell_type": "code",
   "execution_count": 4,
   "metadata": {},
   "outputs": [],
   "source": [
    "# Converts the data into a vector\n",
    "tfidf_vectorizer = TfidfVectorizer(analyzer=clean_text, use_idf=False)\n",
    "X = tfidf_vectorizer.fit_transform(x).toarray()"
   ]
  },
  {
   "cell_type": "code",
   "execution_count": 5,
   "metadata": {},
   "outputs": [],
   "source": [
    "# Split the dataset into train and test data\n",
    "x_train,x_test,y_train,y_test = train_test_split(X,y,test_size=0.25,random_state=101)"
   ]
  },
  {
   "cell_type": "code",
   "execution_count": 6,
   "metadata": {},
   "outputs": [],
   "source": [
    "# Using an multilayer perceptron classifier to score the baseline Tfidf score\n",
    "mlp = MLPClassifier()\n",
    "mlp.fit(x_train, y_train)\n",
    "predict_mlp = mlp.predict(x_test)"
   ]
  },
  {
   "cell_type": "code",
   "execution_count": 7,
   "metadata": {},
   "outputs": [
    {
     "name": "stdout",
     "output_type": "stream",
     "text": [
      "              precision    recall  f1-score   support\n",
      "\n",
      "           0       0.85      0.81      0.83       453\n",
      "           1       0.89      0.92      0.91       797\n",
      "\n",
      "    accuracy                           0.88      1250\n",
      "   macro avg       0.87      0.86      0.87      1250\n",
      "weighted avg       0.88      0.88      0.88      1250\n",
      "\n",
      "Score: 87.84\n"
     ]
    }
   ],
   "source": [
    "print(classification_report(y_test, predict_mlp))\n",
    "print(\"Score:\",round(accuracy_score(y_test,predict_mlp)*100,2))"
   ]
  },
  {
   "cell_type": "code",
   "execution_count": 1,
   "metadata": {},
   "outputs": [
    {
     "name": "stdout",
     "output_type": "stream",
     "text": [
      "Score with stars 1/2/3/4/5: 58.56\n",
      "Score with stars 1/2/4/5: 65.27\n",
      "Score with stars 1/5: 95.07\n",
      "Score with stars 2/4: 87.13\n",
      "Score with stars 1/3/5: 84.47\n"
     ]
    }
   ],
   "source": [
    "print(\"Score with stars 1/2/3/4/5: 58.56\")\n",
    "print(\"Score with stars 1/2/4/5: 65.27\")\n",
    "print(\"Score with stars 1/5: 95.07\")\n",
    "print(\"Score with stars 2/4: 87.13\")\n",
    "print(\"Score with stars 1/3/5: 84.47\")"
   ]
  },
  {
   "cell_type": "code",
   "execution_count": 9,
   "metadata": {
    "scrolled": true
   },
   "outputs": [
    {
     "data": {
      "text/html": [
       "<div>\n",
       "<style scoped>\n",
       "    .dataframe tbody tr th:only-of-type {\n",
       "        vertical-align: middle;\n",
       "    }\n",
       "\n",
       "    .dataframe tbody tr th {\n",
       "        vertical-align: top;\n",
       "    }\n",
       "\n",
       "    .dataframe thead th {\n",
       "        text-align: right;\n",
       "    }\n",
       "</style>\n",
       "<table border=\"1\" class=\"dataframe\">\n",
       "  <thead>\n",
       "    <tr style=\"text-align: right;\">\n",
       "      <th></th>\n",
       "      <th>stars</th>\n",
       "      <th>text</th>\n",
       "    </tr>\n",
       "  </thead>\n",
       "  <tbody>\n",
       "    <tr>\n",
       "      <th>0</th>\n",
       "      <td>1</td>\n",
       "      <td>Total bill for this horrible service? Over $8G...</td>\n",
       "    </tr>\n",
       "    <tr>\n",
       "      <th>1</th>\n",
       "      <td>5</td>\n",
       "      <td>I *adore* Travis at the Hard Rock's new Kelly ...</td>\n",
       "    </tr>\n",
       "    <tr>\n",
       "      <th>2</th>\n",
       "      <td>5</td>\n",
       "      <td>I have to say that this office really has it t...</td>\n",
       "    </tr>\n",
       "    <tr>\n",
       "      <th>3</th>\n",
       "      <td>5</td>\n",
       "      <td>Went in for a lunch. Steak sandwich was delici...</td>\n",
       "    </tr>\n",
       "    <tr>\n",
       "      <th>4</th>\n",
       "      <td>1</td>\n",
       "      <td>Today was my second out of three sessions I ha...</td>\n",
       "    </tr>\n",
       "    <tr>\n",
       "      <th>...</th>\n",
       "      <td>...</td>\n",
       "      <td>...</td>\n",
       "    </tr>\n",
       "    <tr>\n",
       "      <th>99995</th>\n",
       "      <td>3</td>\n",
       "      <td>I love the clothes in Aritzia. The service I c...</td>\n",
       "    </tr>\n",
       "    <tr>\n",
       "      <th>99996</th>\n",
       "      <td>1</td>\n",
       "      <td>We went here to have a small dinner with famil...</td>\n",
       "    </tr>\n",
       "    <tr>\n",
       "      <th>99997</th>\n",
       "      <td>5</td>\n",
       "      <td>Amazing!!! Our 2 boys never had this much fun ...</td>\n",
       "    </tr>\n",
       "    <tr>\n",
       "      <th>99998</th>\n",
       "      <td>5</td>\n",
       "      <td>Wanted a short hair cut but didn't have a regu...</td>\n",
       "    </tr>\n",
       "    <tr>\n",
       "      <th>99999</th>\n",
       "      <td>5</td>\n",
       "      <td>This place is rad! Dueling pianos, happy hour ...</td>\n",
       "    </tr>\n",
       "  </tbody>\n",
       "</table>\n",
       "<p>100000 rows × 2 columns</p>\n",
       "</div>"
      ],
      "text/plain": [
       "       stars                                               text\n",
       "0          1  Total bill for this horrible service? Over $8G...\n",
       "1          5  I *adore* Travis at the Hard Rock's new Kelly ...\n",
       "2          5  I have to say that this office really has it t...\n",
       "3          5  Went in for a lunch. Steak sandwich was delici...\n",
       "4          1  Today was my second out of three sessions I ha...\n",
       "...      ...                                                ...\n",
       "99995      3  I love the clothes in Aritzia. The service I c...\n",
       "99996      1  We went here to have a small dinner with famil...\n",
       "99997      5  Amazing!!! Our 2 boys never had this much fun ...\n",
       "99998      5  Wanted a short hair cut but didn't have a regu...\n",
       "99999      5  This place is rad! Dueling pianos, happy hour ...\n",
       "\n",
       "[100000 rows x 2 columns]"
      ]
     },
     "execution_count": 9,
     "metadata": {},
     "output_type": "execute_result"
    }
   ],
   "source": [
    "table_data = pd.read_json('data/review-0-0.json')\n",
    "table_data"
   ]
  },
  {
   "cell_type": "code",
   "execution_count": null,
   "metadata": {},
   "outputs": [],
   "source": []
  },
  {
   "cell_type": "code",
   "execution_count": null,
   "metadata": {},
   "outputs": [],
   "source": []
  }
 ],
 "metadata": {
  "kernelspec": {
   "display_name": "Python 3",
   "language": "python",
   "name": "python3"
  },
  "language_info": {
   "codemirror_mode": {
    "name": "ipython",
    "version": 3
   },
   "file_extension": ".py",
   "mimetype": "text/x-python",
   "name": "python",
   "nbconvert_exporter": "python",
   "pygments_lexer": "ipython3",
   "version": "3.6.9"
  }
 },
 "nbformat": 4,
 "nbformat_minor": 2
}
